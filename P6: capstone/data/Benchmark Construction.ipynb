{
 "cells": [
  {
   "cell_type": "markdown",
   "metadata": {},
   "source": [
    "# Benchmark Construction\n",
    "\n",
    "In this notebook I will construct the benchmark models used for my analysis."
   ]
  },
  {
   "cell_type": "code",
   "execution_count": 74,
   "metadata": {
    "collapsed": true
   },
   "outputs": [],
   "source": [
    "# import libraries\n",
    "import numpy as np\n",
    "import pandas as pd"
   ]
  },
  {
   "cell_type": "code",
   "execution_count": 75,
   "metadata": {
    "collapsed": false
   },
   "outputs": [],
   "source": [
    "# import datasets\n",
    "data = pd.read_csv('capstone data final.csv', index_col=[0,1,2])\n",
    "cc = pd.read_csv('Calvins Captains Benchmark.csv')"
   ]
  },
  {
   "cell_type": "code",
   "execution_count": 76,
   "metadata": {
    "collapsed": false
   },
   "outputs": [
    {
     "data": {
      "text/html": [
       "<div>\n",
       "<table border=\"1\" class=\"dataframe\">\n",
       "  <thead>\n",
       "    <tr style=\"text-align: right;\">\n",
       "      <th></th>\n",
       "      <th>Round</th>\n",
       "      <th>Player</th>\n",
       "      <th>Score</th>\n",
       "    </tr>\n",
       "  </thead>\n",
       "  <tbody>\n",
       "    <tr>\n",
       "      <th>0</th>\n",
       "      <td>6</td>\n",
       "      <td>Zach Merrett</td>\n",
       "      <td>108</td>\n",
       "    </tr>\n",
       "    <tr>\n",
       "      <th>1</th>\n",
       "      <td>6</td>\n",
       "      <td>Tom Rockliff</td>\n",
       "      <td>100</td>\n",
       "    </tr>\n",
       "    <tr>\n",
       "      <th>2</th>\n",
       "      <td>6</td>\n",
       "      <td>Tom Mitchell</td>\n",
       "      <td>125</td>\n",
       "    </tr>\n",
       "    <tr>\n",
       "      <th>3</th>\n",
       "      <td>6</td>\n",
       "      <td>Adam Treloar</td>\n",
       "      <td>82</td>\n",
       "    </tr>\n",
       "    <tr>\n",
       "      <th>4</th>\n",
       "      <td>6</td>\n",
       "      <td>Dayne Zorko</td>\n",
       "      <td>76</td>\n",
       "    </tr>\n",
       "  </tbody>\n",
       "</table>\n",
       "</div>"
      ],
      "text/plain": [
       "   Round        Player  Score\n",
       "0      6  Zach Merrett    108\n",
       "1      6  Tom Rockliff    100\n",
       "2      6  Tom Mitchell    125\n",
       "3      6  Adam Treloar     82\n",
       "4      6   Dayne Zorko     76"
      ]
     },
     "execution_count": 76,
     "metadata": {},
     "output_type": "execute_result"
    }
   ],
   "source": [
    "cc.head()"
   ]
  },
  {
   "cell_type": "markdown",
   "metadata": {},
   "source": [
    "## Benchmark Dataset Construction\n",
    "\n",
    "Here I will gather the data needed to construct the 'Season Average' and 'Form' benchmarks. As you can see above, the dataset for the 'Calvin's Captains' benchmark has already been gathered manually. Information for this dataset was gathered from the Calvin's Captains articles available on the Dreamteam Talk website (http://dreamteamtalk.com/)"
   ]
  },
  {
   "cell_type": "code",
   "execution_count": 77,
   "metadata": {
    "collapsed": false
   },
   "outputs": [],
   "source": [
    "yr = 2017\n",
    "rd = list(range(6,21))\n",
    "pl_sa = []\n",
    "pl_f = []\n",
    "sc_sa = []\n",
    "sc_f = []\n",
    "\n",
    "for r in rd:\n",
    "    season = data.loc[(yr,r)].sort_values('season_av', ascending=False).iloc[0:5]\n",
    "    for index, row in season.iterrows():\n",
    "        pl_sa.append(index)\n",
    "        sc_sa.append(row['score'])\n",
    "    form = data.loc[(yr,r)].sort_values('three_rd_av', ascending=False).iloc[0:5]\n",
    "    for index, row in form.iterrows():\n",
    "        pl_f.append(index)\n",
    "        sc_f.append(row['score'])"
   ]
  },
  {
   "cell_type": "code",
   "execution_count": 78,
   "metadata": {
    "collapsed": false
   },
   "outputs": [
    {
     "name": "stdout",
     "output_type": "stream",
     "text": [
      "[6, 6, 6, 6, 6, 7, 7, 7, 7, 7, 8, 8, 8, 8, 8, 9, 9, 9, 9, 9, 10, 10, 10, 10, 10, 11, 11, 11, 11, 11, 12, 12, 12, 12, 12, 13, 13, 13, 13, 13, 14, 14, 14, 14, 14, 15, 15, 15, 15, 15, 16, 16, 16, 16, 16, 17, 17, 17, 17, 17, 18, 18, 18, 18, 18, 19, 19, 19, 19, 19, 20, 20, 20, 20, 20]\n"
     ]
    }
   ],
   "source": [
    "rd_col = []\n",
    "for r in rd:\n",
    "    for i in range(5):\n",
    "        rd_col.append(r)\n",
    "print(rd_col)"
   ]
  },
  {
   "cell_type": "code",
   "execution_count": 79,
   "metadata": {
    "collapsed": false
   },
   "outputs": [
    {
     "data": {
      "text/html": [
       "<div>\n",
       "<table border=\"1\" class=\"dataframe\">\n",
       "  <thead>\n",
       "    <tr style=\"text-align: right;\">\n",
       "      <th></th>\n",
       "      <th>Round</th>\n",
       "      <th>Player</th>\n",
       "      <th>Score</th>\n",
       "    </tr>\n",
       "  </thead>\n",
       "  <tbody>\n",
       "    <tr>\n",
       "      <th>0</th>\n",
       "      <td>6</td>\n",
       "      <td>Joel Selwood</td>\n",
       "      <td>60.0</td>\n",
       "    </tr>\n",
       "    <tr>\n",
       "      <th>1</th>\n",
       "      <td>6</td>\n",
       "      <td>Dayne Zorko</td>\n",
       "      <td>76.0</td>\n",
       "    </tr>\n",
       "    <tr>\n",
       "      <th>2</th>\n",
       "      <td>6</td>\n",
       "      <td>Tom Rockliff</td>\n",
       "      <td>100.0</td>\n",
       "    </tr>\n",
       "    <tr>\n",
       "      <th>3</th>\n",
       "      <td>6</td>\n",
       "      <td>Zach Merrett</td>\n",
       "      <td>108.0</td>\n",
       "    </tr>\n",
       "    <tr>\n",
       "      <th>4</th>\n",
       "      <td>6</td>\n",
       "      <td>Rory Sloane</td>\n",
       "      <td>155.0</td>\n",
       "    </tr>\n",
       "  </tbody>\n",
       "</table>\n",
       "</div>"
      ],
      "text/plain": [
       "   Round        Player  Score\n",
       "0      6  Joel Selwood   60.0\n",
       "1      6   Dayne Zorko   76.0\n",
       "2      6  Tom Rockliff  100.0\n",
       "3      6  Zach Merrett  108.0\n",
       "4      6   Rory Sloane  155.0"
      ]
     },
     "execution_count": 79,
     "metadata": {},
     "output_type": "execute_result"
    }
   ],
   "source": [
    "# season average benchmark data\n",
    "sa = pd.DataFrame()\n",
    "sa['Round'] = rd_col\n",
    "sa['Player'] = pl_sa\n",
    "sa['Score'] = sc_sa\n",
    "sa.head()"
   ]
  },
  {
   "cell_type": "code",
   "execution_count": 80,
   "metadata": {
    "collapsed": false
   },
   "outputs": [
    {
     "data": {
      "text/html": [
       "<div>\n",
       "<table border=\"1\" class=\"dataframe\">\n",
       "  <thead>\n",
       "    <tr style=\"text-align: right;\">\n",
       "      <th></th>\n",
       "      <th>Round</th>\n",
       "      <th>Player</th>\n",
       "      <th>Score</th>\n",
       "    </tr>\n",
       "  </thead>\n",
       "  <tbody>\n",
       "    <tr>\n",
       "      <th>0</th>\n",
       "      <td>6</td>\n",
       "      <td>Joel Selwood</td>\n",
       "      <td>60.0</td>\n",
       "    </tr>\n",
       "    <tr>\n",
       "      <th>1</th>\n",
       "      <td>6</td>\n",
       "      <td>Rory Sloane</td>\n",
       "      <td>155.0</td>\n",
       "    </tr>\n",
       "    <tr>\n",
       "      <th>2</th>\n",
       "      <td>6</td>\n",
       "      <td>Dayne Zorko</td>\n",
       "      <td>76.0</td>\n",
       "    </tr>\n",
       "    <tr>\n",
       "      <th>3</th>\n",
       "      <td>6</td>\n",
       "      <td>Tom Rockliff</td>\n",
       "      <td>100.0</td>\n",
       "    </tr>\n",
       "    <tr>\n",
       "      <th>4</th>\n",
       "      <td>6</td>\n",
       "      <td>Gary Ablett</td>\n",
       "      <td>162.0</td>\n",
       "    </tr>\n",
       "  </tbody>\n",
       "</table>\n",
       "</div>"
      ],
      "text/plain": [
       "   Round        Player  Score\n",
       "0      6  Joel Selwood   60.0\n",
       "1      6   Rory Sloane  155.0\n",
       "2      6   Dayne Zorko   76.0\n",
       "3      6  Tom Rockliff  100.0\n",
       "4      6   Gary Ablett  162.0"
      ]
     },
     "execution_count": 80,
     "metadata": {},
     "output_type": "execute_result"
    }
   ],
   "source": [
    "# three week average benchmark data\n",
    "f = pd.DataFrame()\n",
    "f['Round'] = rd_col\n",
    "f['Player'] = pl_f\n",
    "f['Score'] = sc_f\n",
    "f.head()"
   ]
  },
  {
   "cell_type": "code",
   "execution_count": 81,
   "metadata": {
    "collapsed": true
   },
   "outputs": [],
   "source": [
    "# write the benchmark data to file\n",
    "sa.to_csv('Season Average Benchmark.csv', index=False)\n",
    "f.to_csv('3 Week Benchmark.csv', index=False)"
   ]
  },
  {
   "cell_type": "markdown",
   "metadata": {},
   "source": [
    "## Construction of the Benchmark\n",
    "\n",
    "Here we compute the average score of the top 5 players per round according to each method. These values represent the benchmarks that we will evaluate the model results against."
   ]
  },
  {
   "cell_type": "code",
   "execution_count": 82,
   "metadata": {
    "collapsed": false
   },
   "outputs": [
    {
     "data": {
      "text/html": [
       "<div>\n",
       "<table border=\"1\" class=\"dataframe\">\n",
       "  <thead>\n",
       "    <tr style=\"text-align: right;\">\n",
       "      <th></th>\n",
       "      <th>Calvins Captains</th>\n",
       "      <th>Season Average</th>\n",
       "      <th>3 Week Average</th>\n",
       "    </tr>\n",
       "    <tr>\n",
       "      <th>Round</th>\n",
       "      <th></th>\n",
       "      <th></th>\n",
       "      <th></th>\n",
       "    </tr>\n",
       "  </thead>\n",
       "  <tbody>\n",
       "    <tr>\n",
       "      <th>6</th>\n",
       "      <td>98.2</td>\n",
       "      <td>99.8</td>\n",
       "      <td>110.6</td>\n",
       "    </tr>\n",
       "    <tr>\n",
       "      <th>7</th>\n",
       "      <td>114.4</td>\n",
       "      <td>121.8</td>\n",
       "      <td>110.6</td>\n",
       "    </tr>\n",
       "    <tr>\n",
       "      <th>8</th>\n",
       "      <td>113.0</td>\n",
       "      <td>118.0</td>\n",
       "      <td>122.2</td>\n",
       "    </tr>\n",
       "    <tr>\n",
       "      <th>9</th>\n",
       "      <td>131.6</td>\n",
       "      <td>113.4</td>\n",
       "      <td>117.4</td>\n",
       "    </tr>\n",
       "    <tr>\n",
       "      <th>10</th>\n",
       "      <td>101.0</td>\n",
       "      <td>106.8</td>\n",
       "      <td>98.6</td>\n",
       "    </tr>\n",
       "    <tr>\n",
       "      <th>11</th>\n",
       "      <td>115.4</td>\n",
       "      <td>107.6</td>\n",
       "      <td>113.2</td>\n",
       "    </tr>\n",
       "    <tr>\n",
       "      <th>12</th>\n",
       "      <td>139.6</td>\n",
       "      <td>119.8</td>\n",
       "      <td>115.0</td>\n",
       "    </tr>\n",
       "    <tr>\n",
       "      <th>13</th>\n",
       "      <td>93.6</td>\n",
       "      <td>105.0</td>\n",
       "      <td>106.2</td>\n",
       "    </tr>\n",
       "    <tr>\n",
       "      <th>14</th>\n",
       "      <td>104.8</td>\n",
       "      <td>100.8</td>\n",
       "      <td>99.0</td>\n",
       "    </tr>\n",
       "    <tr>\n",
       "      <th>15</th>\n",
       "      <td>114.0</td>\n",
       "      <td>112.4</td>\n",
       "      <td>125.4</td>\n",
       "    </tr>\n",
       "    <tr>\n",
       "      <th>16</th>\n",
       "      <td>121.4</td>\n",
       "      <td>133.4</td>\n",
       "      <td>135.6</td>\n",
       "    </tr>\n",
       "    <tr>\n",
       "      <th>17</th>\n",
       "      <td>115.4</td>\n",
       "      <td>118.0</td>\n",
       "      <td>116.2</td>\n",
       "    </tr>\n",
       "    <tr>\n",
       "      <th>18</th>\n",
       "      <td>89.6</td>\n",
       "      <td>93.6</td>\n",
       "      <td>97.2</td>\n",
       "    </tr>\n",
       "    <tr>\n",
       "      <th>19</th>\n",
       "      <td>93.4</td>\n",
       "      <td>95.6</td>\n",
       "      <td>77.8</td>\n",
       "    </tr>\n",
       "    <tr>\n",
       "      <th>20</th>\n",
       "      <td>99.4</td>\n",
       "      <td>94.2</td>\n",
       "      <td>101.0</td>\n",
       "    </tr>\n",
       "  </tbody>\n",
       "</table>\n",
       "</div>"
      ],
      "text/plain": [
       "       Calvins Captains  Season Average  3 Week Average\n",
       "Round                                                  \n",
       "6                  98.2            99.8           110.6\n",
       "7                 114.4           121.8           110.6\n",
       "8                 113.0           118.0           122.2\n",
       "9                 131.6           113.4           117.4\n",
       "10                101.0           106.8            98.6\n",
       "11                115.4           107.6           113.2\n",
       "12                139.6           119.8           115.0\n",
       "13                 93.6           105.0           106.2\n",
       "14                104.8           100.8            99.0\n",
       "15                114.0           112.4           125.4\n",
       "16                121.4           133.4           135.6\n",
       "17                115.4           118.0           116.2\n",
       "18                 89.6            93.6            97.2\n",
       "19                 93.4            95.6            77.8\n",
       "20                 99.4            94.2           101.0"
      ]
     },
     "execution_count": 82,
     "metadata": {},
     "output_type": "execute_result"
    }
   ],
   "source": [
    "benchmarks = pd.DataFrame()\n",
    "benchmarks['Calvins Captains'] = cc.groupby('Round')['Score'].mean()\n",
    "benchmarks['Season Average'] = sa.groupby('Round')['Score'].mean()\n",
    "benchmarks['3 Week Average'] = f.groupby('Round')['Score'].mean()\n",
    "benchmarks"
   ]
  },
  {
   "cell_type": "code",
   "execution_count": 83,
   "metadata": {
    "collapsed": true
   },
   "outputs": [],
   "source": [
    "# write benchmarks to file\n",
    "benchmarks.to_csv('Benchmarks.csv')"
   ]
  },
  {
   "cell_type": "code",
   "execution_count": null,
   "metadata": {
    "collapsed": true
   },
   "outputs": [],
   "source": []
  }
 ],
 "metadata": {
  "kernelspec": {
   "display_name": "Python [conda env:python3]",
   "language": "python",
   "name": "conda-env-python3-py"
  },
  "language_info": {
   "codemirror_mode": {
    "name": "ipython",
    "version": 3
   },
   "file_extension": ".py",
   "mimetype": "text/x-python",
   "name": "python",
   "nbconvert_exporter": "python",
   "pygments_lexer": "ipython3",
   "version": "3.5.2"
  }
 },
 "nbformat": 4,
 "nbformat_minor": 1
}
