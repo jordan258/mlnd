{
 "cells": [
  {
   "cell_type": "markdown",
   "metadata": {},
   "source": [
    "## Feature Engineering \n",
    "\n",
    "This notebook details the process and code used to transform the project data from it's raw format to the format that will be fed into the learning algorithms. It covers feature construction, feature scaling, and the construction of training, validation and testing data sets."
   ]
  },
  {
   "cell_type": "code",
   "execution_count": 1,
   "metadata": {
    "collapsed": true
   },
   "outputs": [],
   "source": [
    "# importing relevant libraries\n",
    "import numpy as np\n",
    "import pandas as pd\n",
    "import matplotlib.pyplot as plt\n",
    "%matplotlib inline\n",
    "import sklearn as sk"
   ]
  },
  {
   "cell_type": "code",
   "execution_count": 2,
   "metadata": {
    "collapsed": false
   },
   "outputs": [
    {
     "data": {
      "text/html": [
       "<div>\n",
       "<table border=\"1\" class=\"dataframe\">\n",
       "  <thead>\n",
       "    <tr style=\"text-align: right;\">\n",
       "      <th></th>\n",
       "      <th>Year</th>\n",
       "      <th>Round</th>\n",
       "      <th>Team</th>\n",
       "      <th>Player</th>\n",
       "      <th>Score</th>\n",
       "      <th>Opposition</th>\n",
       "      <th>Venue</th>\n",
       "    </tr>\n",
       "  </thead>\n",
       "  <tbody>\n",
       "    <tr>\n",
       "      <th>0</th>\n",
       "      <td>2014</td>\n",
       "      <td>1</td>\n",
       "      <td>ESS</td>\n",
       "      <td>Jobe Watson</td>\n",
       "      <td>153</td>\n",
       "      <td>NM</td>\n",
       "      <td>Etihad</td>\n",
       "    </tr>\n",
       "    <tr>\n",
       "      <th>1</th>\n",
       "      <td>2014</td>\n",
       "      <td>1</td>\n",
       "      <td>ESS</td>\n",
       "      <td>Dyson Heppell</td>\n",
       "      <td>150</td>\n",
       "      <td>NM</td>\n",
       "      <td>Etihad</td>\n",
       "    </tr>\n",
       "    <tr>\n",
       "      <th>2</th>\n",
       "      <td>2014</td>\n",
       "      <td>1</td>\n",
       "      <td>MEL</td>\n",
       "      <td>Nathan Jones</td>\n",
       "      <td>147</td>\n",
       "      <td>STK</td>\n",
       "      <td>Etihad</td>\n",
       "    </tr>\n",
       "    <tr>\n",
       "      <th>3</th>\n",
       "      <td>2014</td>\n",
       "      <td>1</td>\n",
       "      <td>GCS</td>\n",
       "      <td>Gary Ablett</td>\n",
       "      <td>141</td>\n",
       "      <td>RIC</td>\n",
       "      <td>Metricon</td>\n",
       "    </tr>\n",
       "    <tr>\n",
       "      <th>4</th>\n",
       "      <td>2014</td>\n",
       "      <td>1</td>\n",
       "      <td>STK</td>\n",
       "      <td>Clinton Jones</td>\n",
       "      <td>141</td>\n",
       "      <td>MEL</td>\n",
       "      <td>Etihad</td>\n",
       "    </tr>\n",
       "  </tbody>\n",
       "</table>\n",
       "</div>"
      ],
      "text/plain": [
       "   Year  Round Team         Player  Score Opposition     Venue\n",
       "0  2014      1  ESS    Jobe Watson    153         NM    Etihad\n",
       "1  2014      1  ESS  Dyson Heppell    150         NM    Etihad\n",
       "2  2014      1  MEL   Nathan Jones    147        STK    Etihad\n",
       "3  2014      1  GCS    Gary Ablett    141        RIC  Metricon\n",
       "4  2014      1  STK  Clinton Jones    141        MEL    Etihad"
      ]
     },
     "execution_count": 2,
     "metadata": {},
     "output_type": "execute_result"
    }
   ],
   "source": [
    "# import dataset\n",
    "raw = pd.read_csv('capstone data raw.csv')\n",
    "raw.head()"
   ]
  },
  {
   "cell_type": "code",
   "execution_count": 3,
   "metadata": {
    "collapsed": false
   },
   "outputs": [
    {
     "data": {
      "text/html": [
       "<div>\n",
       "<table border=\"1\" class=\"dataframe\">\n",
       "  <thead>\n",
       "    <tr style=\"text-align: right;\">\n",
       "      <th></th>\n",
       "      <th></th>\n",
       "      <th></th>\n",
       "      <th>Year</th>\n",
       "      <th>Round</th>\n",
       "      <th>Team</th>\n",
       "      <th>Player</th>\n",
       "      <th>Score</th>\n",
       "      <th>Opposition</th>\n",
       "      <th>Venue</th>\n",
       "    </tr>\n",
       "    <tr>\n",
       "      <th>year</th>\n",
       "      <th>round</th>\n",
       "      <th>player</th>\n",
       "      <th></th>\n",
       "      <th></th>\n",
       "      <th></th>\n",
       "      <th></th>\n",
       "      <th></th>\n",
       "      <th></th>\n",
       "      <th></th>\n",
       "    </tr>\n",
       "  </thead>\n",
       "  <tbody>\n",
       "    <tr>\n",
       "      <th rowspan=\"5\" valign=\"top\">2014</th>\n",
       "      <th rowspan=\"5\" valign=\"top\">1</th>\n",
       "      <th>Jobe Watson</th>\n",
       "      <td>2014</td>\n",
       "      <td>1</td>\n",
       "      <td>ESS</td>\n",
       "      <td>Jobe Watson</td>\n",
       "      <td>153</td>\n",
       "      <td>NM</td>\n",
       "      <td>Etihad</td>\n",
       "    </tr>\n",
       "    <tr>\n",
       "      <th>Dyson Heppell</th>\n",
       "      <td>2014</td>\n",
       "      <td>1</td>\n",
       "      <td>ESS</td>\n",
       "      <td>Dyson Heppell</td>\n",
       "      <td>150</td>\n",
       "      <td>NM</td>\n",
       "      <td>Etihad</td>\n",
       "    </tr>\n",
       "    <tr>\n",
       "      <th>Nathan Jones</th>\n",
       "      <td>2014</td>\n",
       "      <td>1</td>\n",
       "      <td>MEL</td>\n",
       "      <td>Nathan Jones</td>\n",
       "      <td>147</td>\n",
       "      <td>STK</td>\n",
       "      <td>Etihad</td>\n",
       "    </tr>\n",
       "    <tr>\n",
       "      <th>Gary Ablett</th>\n",
       "      <td>2014</td>\n",
       "      <td>1</td>\n",
       "      <td>GCS</td>\n",
       "      <td>Gary Ablett</td>\n",
       "      <td>141</td>\n",
       "      <td>RIC</td>\n",
       "      <td>Metricon</td>\n",
       "    </tr>\n",
       "    <tr>\n",
       "      <th>Clinton Jones</th>\n",
       "      <td>2014</td>\n",
       "      <td>1</td>\n",
       "      <td>STK</td>\n",
       "      <td>Clinton Jones</td>\n",
       "      <td>141</td>\n",
       "      <td>MEL</td>\n",
       "      <td>Etihad</td>\n",
       "    </tr>\n",
       "  </tbody>\n",
       "</table>\n",
       "</div>"
      ],
      "text/plain": [
       "                          Year  Round Team         Player  Score Opposition  \\\n",
       "year round player                                                             \n",
       "2014 1     Jobe Watson    2014      1  ESS    Jobe Watson    153         NM   \n",
       "           Dyson Heppell  2014      1  ESS  Dyson Heppell    150         NM   \n",
       "           Nathan Jones   2014      1  MEL   Nathan Jones    147        STK   \n",
       "           Gary Ablett    2014      1  GCS    Gary Ablett    141        RIC   \n",
       "           Clinton Jones  2014      1  STK  Clinton Jones    141        MEL   \n",
       "\n",
       "                             Venue  \n",
       "year round player                   \n",
       "2014 1     Jobe Watson      Etihad  \n",
       "           Dyson Heppell    Etihad  \n",
       "           Nathan Jones     Etihad  \n",
       "           Gary Ablett    Metricon  \n",
       "           Clinton Jones    Etihad  "
      ]
     },
     "execution_count": 3,
     "metadata": {},
     "output_type": "execute_result"
    }
   ],
   "source": [
    "# Create a multiindex to help with filtering of data set\n",
    "arrays = [list(raw['Year']), list(raw['Round']), list(raw['Player'])]\n",
    "\n",
    "tuples = list(zip(*arrays))\n",
    "\n",
    "index = pd.MultiIndex.from_tuples(tuples, names=['year', 'round', 'player'])\n",
    "\n",
    "raw.set_index(index, inplace=True)\n",
    "\n",
    "raw.head()"
   ]
  },
  {
   "cell_type": "code",
   "execution_count": 5,
   "metadata": {
    "collapsed": false
   },
   "outputs": [
    {
     "data": {
      "text/plain": [
       "Year                    2017\n",
       "Round                     20\n",
       "Team                      PA\n",
       "Player        Angus Monfries\n",
       "Score                     22\n",
       "Opposition               ADE\n",
       "Venue               Adelaide\n",
       "Name: (2017, 20, Angus Monfries), dtype: object"
      ]
     },
     "execution_count": 5,
     "metadata": {},
     "output_type": "execute_result"
    }
   ],
   "source": [
    "# test multiindex\n",
    "raw.loc[(2017, 20, 'Angus Monfries')]"
   ]
  },
  {
   "cell_type": "code",
   "execution_count": 6,
   "metadata": {
    "collapsed": false
   },
   "outputs": [
    {
     "data": {
      "text/html": [
       "<div>\n",
       "<table border=\"1\" class=\"dataframe\">\n",
       "  <thead>\n",
       "    <tr style=\"text-align: right;\">\n",
       "      <th></th>\n",
       "      <th></th>\n",
       "      <th>Year</th>\n",
       "      <th>Round</th>\n",
       "      <th>Team</th>\n",
       "      <th>Player</th>\n",
       "      <th>Score</th>\n",
       "      <th>Opposition</th>\n",
       "      <th>Venue</th>\n",
       "    </tr>\n",
       "    <tr>\n",
       "      <th>round</th>\n",
       "      <th>player</th>\n",
       "      <th></th>\n",
       "      <th></th>\n",
       "      <th></th>\n",
       "      <th></th>\n",
       "      <th></th>\n",
       "      <th></th>\n",
       "      <th></th>\n",
       "    </tr>\n",
       "  </thead>\n",
       "  <tbody>\n",
       "    <tr>\n",
       "      <th rowspan=\"30\" valign=\"top\">1</th>\n",
       "      <th>Marc Murphy</th>\n",
       "      <td>2017</td>\n",
       "      <td>1</td>\n",
       "      <td>CAR</td>\n",
       "      <td>Marc Murphy</td>\n",
       "      <td>139</td>\n",
       "      <td>RIC</td>\n",
       "      <td>MCG</td>\n",
       "    </tr>\n",
       "    <tr>\n",
       "      <th>Kade Simpson</th>\n",
       "      <td>2017</td>\n",
       "      <td>1</td>\n",
       "      <td>CAR</td>\n",
       "      <td>Kade Simpson</td>\n",
       "      <td>126</td>\n",
       "      <td>RIC</td>\n",
       "      <td>MCG</td>\n",
       "    </tr>\n",
       "    <tr>\n",
       "      <th>Matthew Kreuzer</th>\n",
       "      <td>2017</td>\n",
       "      <td>1</td>\n",
       "      <td>CAR</td>\n",
       "      <td>Matthew Kreuzer</td>\n",
       "      <td>120</td>\n",
       "      <td>RIC</td>\n",
       "      <td>MCG</td>\n",
       "    </tr>\n",
       "    <tr>\n",
       "      <th>Bryce Gibbs</th>\n",
       "      <td>2017</td>\n",
       "      <td>1</td>\n",
       "      <td>CAR</td>\n",
       "      <td>Bryce Gibbs</td>\n",
       "      <td>105</td>\n",
       "      <td>RIC</td>\n",
       "      <td>MCG</td>\n",
       "    </tr>\n",
       "    <tr>\n",
       "      <th>Sam Docherty</th>\n",
       "      <td>2017</td>\n",
       "      <td>1</td>\n",
       "      <td>CAR</td>\n",
       "      <td>Sam Docherty</td>\n",
       "      <td>90</td>\n",
       "      <td>RIC</td>\n",
       "      <td>MCG</td>\n",
       "    </tr>\n",
       "    <tr>\n",
       "      <th>Matthew Wright</th>\n",
       "      <td>2017</td>\n",
       "      <td>1</td>\n",
       "      <td>CAR</td>\n",
       "      <td>Matthew Wright</td>\n",
       "      <td>87</td>\n",
       "      <td>RIC</td>\n",
       "      <td>MCG</td>\n",
       "    </tr>\n",
       "    <tr>\n",
       "      <th>Lachie Plowman</th>\n",
       "      <td>2017</td>\n",
       "      <td>1</td>\n",
       "      <td>CAR</td>\n",
       "      <td>Lachie Plowman</td>\n",
       "      <td>87</td>\n",
       "      <td>RIC</td>\n",
       "      <td>MCG</td>\n",
       "    </tr>\n",
       "    <tr>\n",
       "      <th>Caleb Marchbank</th>\n",
       "      <td>2017</td>\n",
       "      <td>1</td>\n",
       "      <td>CAR</td>\n",
       "      <td>Caleb Marchbank</td>\n",
       "      <td>78</td>\n",
       "      <td>RIC</td>\n",
       "      <td>MCG</td>\n",
       "    </tr>\n",
       "    <tr>\n",
       "      <th>Ed Curnow</th>\n",
       "      <td>2017</td>\n",
       "      <td>1</td>\n",
       "      <td>CAR</td>\n",
       "      <td>Ed Curnow</td>\n",
       "      <td>77</td>\n",
       "      <td>RIC</td>\n",
       "      <td>MCG</td>\n",
       "    </tr>\n",
       "    <tr>\n",
       "      <th>Patrick Cripps</th>\n",
       "      <td>2017</td>\n",
       "      <td>1</td>\n",
       "      <td>CAR</td>\n",
       "      <td>Patrick Cripps</td>\n",
       "      <td>77</td>\n",
       "      <td>RIC</td>\n",
       "      <td>MCG</td>\n",
       "    </tr>\n",
       "    <tr>\n",
       "      <th>Dale Thomas</th>\n",
       "      <td>2017</td>\n",
       "      <td>1</td>\n",
       "      <td>CAR</td>\n",
       "      <td>Dale Thomas</td>\n",
       "      <td>71</td>\n",
       "      <td>RIC</td>\n",
       "      <td>MCG</td>\n",
       "    </tr>\n",
       "    <tr>\n",
       "      <th>Jacob Weitering</th>\n",
       "      <td>2017</td>\n",
       "      <td>1</td>\n",
       "      <td>CAR</td>\n",
       "      <td>Jacob Weitering</td>\n",
       "      <td>65</td>\n",
       "      <td>RIC</td>\n",
       "      <td>MCG</td>\n",
       "    </tr>\n",
       "    <tr>\n",
       "      <th>Sam Petrevski-Seton</th>\n",
       "      <td>2017</td>\n",
       "      <td>1</td>\n",
       "      <td>CAR</td>\n",
       "      <td>Sam Petrevski-Seton</td>\n",
       "      <td>65</td>\n",
       "      <td>RIC</td>\n",
       "      <td>MCG</td>\n",
       "    </tr>\n",
       "    <tr>\n",
       "      <th>Jack Silvagni</th>\n",
       "      <td>2017</td>\n",
       "      <td>1</td>\n",
       "      <td>CAR</td>\n",
       "      <td>Jack Silvagni</td>\n",
       "      <td>64</td>\n",
       "      <td>RIC</td>\n",
       "      <td>MCG</td>\n",
       "    </tr>\n",
       "    <tr>\n",
       "      <th>Levi Casboult</th>\n",
       "      <td>2017</td>\n",
       "      <td>1</td>\n",
       "      <td>CAR</td>\n",
       "      <td>Levi Casboult</td>\n",
       "      <td>61</td>\n",
       "      <td>RIC</td>\n",
       "      <td>MCG</td>\n",
       "    </tr>\n",
       "    <tr>\n",
       "      <th>Billie Smedts</th>\n",
       "      <td>2017</td>\n",
       "      <td>1</td>\n",
       "      <td>CAR</td>\n",
       "      <td>Billie Smedts</td>\n",
       "      <td>61</td>\n",
       "      <td>RIC</td>\n",
       "      <td>MCG</td>\n",
       "    </tr>\n",
       "    <tr>\n",
       "      <th>Charlie Curnow</th>\n",
       "      <td>2017</td>\n",
       "      <td>1</td>\n",
       "      <td>CAR</td>\n",
       "      <td>Charlie Curnow</td>\n",
       "      <td>52</td>\n",
       "      <td>RIC</td>\n",
       "      <td>MCG</td>\n",
       "    </tr>\n",
       "    <tr>\n",
       "      <th>Simon White</th>\n",
       "      <td>2017</td>\n",
       "      <td>1</td>\n",
       "      <td>CAR</td>\n",
       "      <td>Simon White</td>\n",
       "      <td>49</td>\n",
       "      <td>RIC</td>\n",
       "      <td>MCG</td>\n",
       "    </tr>\n",
       "    <tr>\n",
       "      <th>Harrison Macreadie</th>\n",
       "      <td>2017</td>\n",
       "      <td>1</td>\n",
       "      <td>CAR</td>\n",
       "      <td>Harrison Macreadie</td>\n",
       "      <td>37</td>\n",
       "      <td>RIC</td>\n",
       "      <td>MCG</td>\n",
       "    </tr>\n",
       "    <tr>\n",
       "      <th>Sam Rowe</th>\n",
       "      <td>2017</td>\n",
       "      <td>1</td>\n",
       "      <td>CAR</td>\n",
       "      <td>Sam Rowe</td>\n",
       "      <td>36</td>\n",
       "      <td>RIC</td>\n",
       "      <td>MCG</td>\n",
       "    </tr>\n",
       "    <tr>\n",
       "      <th>Jarrod Pickett</th>\n",
       "      <td>2017</td>\n",
       "      <td>1</td>\n",
       "      <td>CAR</td>\n",
       "      <td>Jarrod Pickett</td>\n",
       "      <td>30</td>\n",
       "      <td>RIC</td>\n",
       "      <td>MCG</td>\n",
       "    </tr>\n",
       "    <tr>\n",
       "      <th>Dennis Armfield</th>\n",
       "      <td>2017</td>\n",
       "      <td>1</td>\n",
       "      <td>CAR</td>\n",
       "      <td>Dennis Armfield</td>\n",
       "      <td>26</td>\n",
       "      <td>RIC</td>\n",
       "      <td>MCG</td>\n",
       "    </tr>\n",
       "    <tr>\n",
       "      <th>Dustin Martin</th>\n",
       "      <td>2017</td>\n",
       "      <td>1</td>\n",
       "      <td>RIC</td>\n",
       "      <td>Dustin Martin</td>\n",
       "      <td>139</td>\n",
       "      <td>CAR</td>\n",
       "      <td>MCG</td>\n",
       "    </tr>\n",
       "    <tr>\n",
       "      <th>Shaun Grigg</th>\n",
       "      <td>2017</td>\n",
       "      <td>1</td>\n",
       "      <td>RIC</td>\n",
       "      <td>Shaun Grigg</td>\n",
       "      <td>111</td>\n",
       "      <td>CAR</td>\n",
       "      <td>MCG</td>\n",
       "    </tr>\n",
       "    <tr>\n",
       "      <th>Dion Prestia</th>\n",
       "      <td>2017</td>\n",
       "      <td>1</td>\n",
       "      <td>RIC</td>\n",
       "      <td>Dion Prestia</td>\n",
       "      <td>103</td>\n",
       "      <td>CAR</td>\n",
       "      <td>MCG</td>\n",
       "    </tr>\n",
       "    <tr>\n",
       "      <th>Trent Cotchin</th>\n",
       "      <td>2017</td>\n",
       "      <td>1</td>\n",
       "      <td>RIC</td>\n",
       "      <td>Trent Cotchin</td>\n",
       "      <td>98</td>\n",
       "      <td>CAR</td>\n",
       "      <td>MCG</td>\n",
       "    </tr>\n",
       "    <tr>\n",
       "      <th>Nick Vlastuin</th>\n",
       "      <td>2017</td>\n",
       "      <td>1</td>\n",
       "      <td>RIC</td>\n",
       "      <td>Nick Vlastuin</td>\n",
       "      <td>91</td>\n",
       "      <td>CAR</td>\n",
       "      <td>MCG</td>\n",
       "    </tr>\n",
       "    <tr>\n",
       "      <th>Jason Castagna</th>\n",
       "      <td>2017</td>\n",
       "      <td>1</td>\n",
       "      <td>RIC</td>\n",
       "      <td>Jason Castagna</td>\n",
       "      <td>86</td>\n",
       "      <td>CAR</td>\n",
       "      <td>MCG</td>\n",
       "    </tr>\n",
       "    <tr>\n",
       "      <th>Reece Conca</th>\n",
       "      <td>2017</td>\n",
       "      <td>1</td>\n",
       "      <td>RIC</td>\n",
       "      <td>Reece Conca</td>\n",
       "      <td>84</td>\n",
       "      <td>CAR</td>\n",
       "      <td>MCG</td>\n",
       "    </tr>\n",
       "    <tr>\n",
       "      <th>Toby Nankervis</th>\n",
       "      <td>2017</td>\n",
       "      <td>1</td>\n",
       "      <td>RIC</td>\n",
       "      <td>Toby Nankervis</td>\n",
       "      <td>83</td>\n",
       "      <td>CAR</td>\n",
       "      <td>MCG</td>\n",
       "    </tr>\n",
       "    <tr>\n",
       "      <th>...</th>\n",
       "      <th>...</th>\n",
       "      <td>...</td>\n",
       "      <td>...</td>\n",
       "      <td>...</td>\n",
       "      <td>...</td>\n",
       "      <td>...</td>\n",
       "      <td>...</td>\n",
       "      <td>...</td>\n",
       "    </tr>\n",
       "    <tr>\n",
       "      <th rowspan=\"30\" valign=\"top\">20</th>\n",
       "      <th>Luke Brown</th>\n",
       "      <td>2017</td>\n",
       "      <td>20</td>\n",
       "      <td>ADE</td>\n",
       "      <td>Luke Brown</td>\n",
       "      <td>74</td>\n",
       "      <td>PA</td>\n",
       "      <td>Adelaide</td>\n",
       "    </tr>\n",
       "    <tr>\n",
       "      <th>Riley Knight</th>\n",
       "      <td>2017</td>\n",
       "      <td>20</td>\n",
       "      <td>ADE</td>\n",
       "      <td>Riley Knight</td>\n",
       "      <td>64</td>\n",
       "      <td>PA</td>\n",
       "      <td>Adelaide</td>\n",
       "    </tr>\n",
       "    <tr>\n",
       "      <th>Rory Atkins</th>\n",
       "      <td>2017</td>\n",
       "      <td>20</td>\n",
       "      <td>ADE</td>\n",
       "      <td>Rory Atkins</td>\n",
       "      <td>60</td>\n",
       "      <td>PA</td>\n",
       "      <td>Adelaide</td>\n",
       "    </tr>\n",
       "    <tr>\n",
       "      <th>Mitch McGovern</th>\n",
       "      <td>2017</td>\n",
       "      <td>20</td>\n",
       "      <td>ADE</td>\n",
       "      <td>Mitch McGovern</td>\n",
       "      <td>55</td>\n",
       "      <td>PA</td>\n",
       "      <td>Adelaide</td>\n",
       "    </tr>\n",
       "    <tr>\n",
       "      <th>Daniel Talia</th>\n",
       "      <td>2017</td>\n",
       "      <td>20</td>\n",
       "      <td>ADE</td>\n",
       "      <td>Daniel Talia</td>\n",
       "      <td>52</td>\n",
       "      <td>PA</td>\n",
       "      <td>Adelaide</td>\n",
       "    </tr>\n",
       "    <tr>\n",
       "      <th>Jake Kelly</th>\n",
       "      <td>2017</td>\n",
       "      <td>20</td>\n",
       "      <td>ADE</td>\n",
       "      <td>Jake Kelly</td>\n",
       "      <td>43</td>\n",
       "      <td>PA</td>\n",
       "      <td>Adelaide</td>\n",
       "    </tr>\n",
       "    <tr>\n",
       "      <th>Alex Keath</th>\n",
       "      <td>2017</td>\n",
       "      <td>20</td>\n",
       "      <td>ADE</td>\n",
       "      <td>Alex Keath</td>\n",
       "      <td>26</td>\n",
       "      <td>PA</td>\n",
       "      <td>Adelaide</td>\n",
       "    </tr>\n",
       "    <tr>\n",
       "      <th>David Mackay</th>\n",
       "      <td>2017</td>\n",
       "      <td>20</td>\n",
       "      <td>ADE</td>\n",
       "      <td>David Mackay</td>\n",
       "      <td>4</td>\n",
       "      <td>PA</td>\n",
       "      <td>Adelaide</td>\n",
       "    </tr>\n",
       "    <tr>\n",
       "      <th>Robbie Gray</th>\n",
       "      <td>2017</td>\n",
       "      <td>20</td>\n",
       "      <td>PA</td>\n",
       "      <td>Robbie Gray</td>\n",
       "      <td>112</td>\n",
       "      <td>ADE</td>\n",
       "      <td>Adelaide</td>\n",
       "    </tr>\n",
       "    <tr>\n",
       "      <th>Travis Boak</th>\n",
       "      <td>2017</td>\n",
       "      <td>20</td>\n",
       "      <td>PA</td>\n",
       "      <td>Travis Boak</td>\n",
       "      <td>103</td>\n",
       "      <td>ADE</td>\n",
       "      <td>Adelaide</td>\n",
       "    </tr>\n",
       "    <tr>\n",
       "      <th>Tom Jonas</th>\n",
       "      <td>2017</td>\n",
       "      <td>20</td>\n",
       "      <td>PA</td>\n",
       "      <td>Tom Jonas</td>\n",
       "      <td>95</td>\n",
       "      <td>ADE</td>\n",
       "      <td>Adelaide</td>\n",
       "    </tr>\n",
       "    <tr>\n",
       "      <th>Paddy Ryder</th>\n",
       "      <td>2017</td>\n",
       "      <td>20</td>\n",
       "      <td>PA</td>\n",
       "      <td>Paddy Ryder</td>\n",
       "      <td>88</td>\n",
       "      <td>ADE</td>\n",
       "      <td>Adelaide</td>\n",
       "    </tr>\n",
       "    <tr>\n",
       "      <th>Brad Ebert</th>\n",
       "      <td>2017</td>\n",
       "      <td>20</td>\n",
       "      <td>PA</td>\n",
       "      <td>Brad Ebert</td>\n",
       "      <td>83</td>\n",
       "      <td>ADE</td>\n",
       "      <td>Adelaide</td>\n",
       "    </tr>\n",
       "    <tr>\n",
       "      <th>Charlie Dixon</th>\n",
       "      <td>2017</td>\n",
       "      <td>20</td>\n",
       "      <td>PA</td>\n",
       "      <td>Charlie Dixon</td>\n",
       "      <td>77</td>\n",
       "      <td>ADE</td>\n",
       "      <td>Adelaide</td>\n",
       "    </tr>\n",
       "    <tr>\n",
       "      <th>Jared Polec</th>\n",
       "      <td>2017</td>\n",
       "      <td>20</td>\n",
       "      <td>PA</td>\n",
       "      <td>Jared Polec</td>\n",
       "      <td>73</td>\n",
       "      <td>ADE</td>\n",
       "      <td>Adelaide</td>\n",
       "    </tr>\n",
       "    <tr>\n",
       "      <th>Ollie Wines</th>\n",
       "      <td>2017</td>\n",
       "      <td>20</td>\n",
       "      <td>PA</td>\n",
       "      <td>Ollie Wines</td>\n",
       "      <td>66</td>\n",
       "      <td>ADE</td>\n",
       "      <td>Adelaide</td>\n",
       "    </tr>\n",
       "    <tr>\n",
       "      <th>Hamish Hartlett</th>\n",
       "      <td>2017</td>\n",
       "      <td>20</td>\n",
       "      <td>PA</td>\n",
       "      <td>Hamish Hartlett</td>\n",
       "      <td>63</td>\n",
       "      <td>ADE</td>\n",
       "      <td>Adelaide</td>\n",
       "    </tr>\n",
       "    <tr>\n",
       "      <th>Jasper Pittard</th>\n",
       "      <td>2017</td>\n",
       "      <td>20</td>\n",
       "      <td>PA</td>\n",
       "      <td>Jasper Pittard</td>\n",
       "      <td>61</td>\n",
       "      <td>ADE</td>\n",
       "      <td>Adelaide</td>\n",
       "    </tr>\n",
       "    <tr>\n",
       "      <th>Justin Westhoff</th>\n",
       "      <td>2017</td>\n",
       "      <td>20</td>\n",
       "      <td>PA</td>\n",
       "      <td>Justin Westhoff</td>\n",
       "      <td>60</td>\n",
       "      <td>ADE</td>\n",
       "      <td>Adelaide</td>\n",
       "    </tr>\n",
       "    <tr>\n",
       "      <th>Jack Hombsch</th>\n",
       "      <td>2017</td>\n",
       "      <td>20</td>\n",
       "      <td>PA</td>\n",
       "      <td>Jack Hombsch</td>\n",
       "      <td>58</td>\n",
       "      <td>ADE</td>\n",
       "      <td>Adelaide</td>\n",
       "    </tr>\n",
       "    <tr>\n",
       "      <th>Sam Gray</th>\n",
       "      <td>2017</td>\n",
       "      <td>20</td>\n",
       "      <td>PA</td>\n",
       "      <td>Sam Gray</td>\n",
       "      <td>57</td>\n",
       "      <td>ADE</td>\n",
       "      <td>Adelaide</td>\n",
       "    </tr>\n",
       "    <tr>\n",
       "      <th>Jarman Impey</th>\n",
       "      <td>2017</td>\n",
       "      <td>20</td>\n",
       "      <td>PA</td>\n",
       "      <td>Jarman Impey</td>\n",
       "      <td>46</td>\n",
       "      <td>ADE</td>\n",
       "      <td>Adelaide</td>\n",
       "    </tr>\n",
       "    <tr>\n",
       "      <th>Aidyn Johnson</th>\n",
       "      <td>2017</td>\n",
       "      <td>20</td>\n",
       "      <td>PA</td>\n",
       "      <td>Aidyn Johnson</td>\n",
       "      <td>44</td>\n",
       "      <td>ADE</td>\n",
       "      <td>Adelaide</td>\n",
       "    </tr>\n",
       "    <tr>\n",
       "      <th>Darcy Byrne-Jones</th>\n",
       "      <td>2017</td>\n",
       "      <td>20</td>\n",
       "      <td>PA</td>\n",
       "      <td>Darcy Byrne-Jones</td>\n",
       "      <td>38</td>\n",
       "      <td>ADE</td>\n",
       "      <td>Adelaide</td>\n",
       "    </tr>\n",
       "    <tr>\n",
       "      <th>Karl Amon</th>\n",
       "      <td>2017</td>\n",
       "      <td>20</td>\n",
       "      <td>PA</td>\n",
       "      <td>Karl Amon</td>\n",
       "      <td>37</td>\n",
       "      <td>ADE</td>\n",
       "      <td>Adelaide</td>\n",
       "    </tr>\n",
       "    <tr>\n",
       "      <th>Jackson Trengove</th>\n",
       "      <td>2017</td>\n",
       "      <td>20</td>\n",
       "      <td>PA</td>\n",
       "      <td>Jackson Trengove</td>\n",
       "      <td>32</td>\n",
       "      <td>ADE</td>\n",
       "      <td>Adelaide</td>\n",
       "    </tr>\n",
       "    <tr>\n",
       "      <th>Aaron Young</th>\n",
       "      <td>2017</td>\n",
       "      <td>20</td>\n",
       "      <td>PA</td>\n",
       "      <td>Aaron Young</td>\n",
       "      <td>25</td>\n",
       "      <td>ADE</td>\n",
       "      <td>Adelaide</td>\n",
       "    </tr>\n",
       "    <tr>\n",
       "      <th>Tom Clurey</th>\n",
       "      <td>2017</td>\n",
       "      <td>20</td>\n",
       "      <td>PA</td>\n",
       "      <td>Tom Clurey</td>\n",
       "      <td>24</td>\n",
       "      <td>ADE</td>\n",
       "      <td>Adelaide</td>\n",
       "    </tr>\n",
       "    <tr>\n",
       "      <th>Angus Monfries</th>\n",
       "      <td>2017</td>\n",
       "      <td>20</td>\n",
       "      <td>PA</td>\n",
       "      <td>Angus Monfries</td>\n",
       "      <td>22</td>\n",
       "      <td>ADE</td>\n",
       "      <td>Adelaide</td>\n",
       "    </tr>\n",
       "    <tr>\n",
       "      <th>Sam Powell-Pepper</th>\n",
       "      <td>2017</td>\n",
       "      <td>20</td>\n",
       "      <td>PA</td>\n",
       "      <td>Sam Powell-Pepper</td>\n",
       "      <td>16</td>\n",
       "      <td>ADE</td>\n",
       "      <td>Adelaide</td>\n",
       "    </tr>\n",
       "  </tbody>\n",
       "</table>\n",
       "<p>7524 rows × 7 columns</p>\n",
       "</div>"
      ],
      "text/plain": [
       "                           Year  Round Team               Player  Score  \\\n",
       "round player                                                              \n",
       "1     Marc Murphy          2017      1  CAR          Marc Murphy    139   \n",
       "      Kade Simpson         2017      1  CAR         Kade Simpson    126   \n",
       "      Matthew Kreuzer      2017      1  CAR      Matthew Kreuzer    120   \n",
       "      Bryce Gibbs          2017      1  CAR          Bryce Gibbs    105   \n",
       "      Sam Docherty         2017      1  CAR         Sam Docherty     90   \n",
       "      Matthew Wright       2017      1  CAR       Matthew Wright     87   \n",
       "      Lachie Plowman       2017      1  CAR       Lachie Plowman     87   \n",
       "      Caleb Marchbank      2017      1  CAR      Caleb Marchbank     78   \n",
       "      Ed Curnow            2017      1  CAR            Ed Curnow     77   \n",
       "      Patrick Cripps       2017      1  CAR       Patrick Cripps     77   \n",
       "      Dale Thomas          2017      1  CAR          Dale Thomas     71   \n",
       "      Jacob Weitering      2017      1  CAR      Jacob Weitering     65   \n",
       "      Sam Petrevski-Seton  2017      1  CAR  Sam Petrevski-Seton     65   \n",
       "      Jack Silvagni        2017      1  CAR        Jack Silvagni     64   \n",
       "      Levi Casboult        2017      1  CAR        Levi Casboult     61   \n",
       "      Billie Smedts        2017      1  CAR        Billie Smedts     61   \n",
       "      Charlie Curnow       2017      1  CAR       Charlie Curnow     52   \n",
       "      Simon White          2017      1  CAR          Simon White     49   \n",
       "      Harrison Macreadie   2017      1  CAR   Harrison Macreadie     37   \n",
       "      Sam Rowe             2017      1  CAR             Sam Rowe     36   \n",
       "      Jarrod Pickett       2017      1  CAR       Jarrod Pickett     30   \n",
       "      Dennis Armfield      2017      1  CAR      Dennis Armfield     26   \n",
       "      Dustin Martin        2017      1  RIC        Dustin Martin    139   \n",
       "      Shaun Grigg          2017      1  RIC          Shaun Grigg    111   \n",
       "      Dion Prestia         2017      1  RIC         Dion Prestia    103   \n",
       "      Trent Cotchin        2017      1  RIC        Trent Cotchin     98   \n",
       "      Nick Vlastuin        2017      1  RIC        Nick Vlastuin     91   \n",
       "      Jason Castagna       2017      1  RIC       Jason Castagna     86   \n",
       "      Reece Conca          2017      1  RIC          Reece Conca     84   \n",
       "      Toby Nankervis       2017      1  RIC       Toby Nankervis     83   \n",
       "...                         ...    ...  ...                  ...    ...   \n",
       "20    Luke Brown           2017     20  ADE           Luke Brown     74   \n",
       "      Riley Knight         2017     20  ADE         Riley Knight     64   \n",
       "      Rory Atkins          2017     20  ADE          Rory Atkins     60   \n",
       "      Mitch McGovern       2017     20  ADE       Mitch McGovern     55   \n",
       "      Daniel Talia         2017     20  ADE         Daniel Talia     52   \n",
       "      Jake Kelly           2017     20  ADE           Jake Kelly     43   \n",
       "      Alex Keath           2017     20  ADE           Alex Keath     26   \n",
       "      David Mackay         2017     20  ADE         David Mackay      4   \n",
       "      Robbie Gray          2017     20   PA          Robbie Gray    112   \n",
       "      Travis Boak          2017     20   PA          Travis Boak    103   \n",
       "      Tom Jonas            2017     20   PA            Tom Jonas     95   \n",
       "      Paddy Ryder          2017     20   PA          Paddy Ryder     88   \n",
       "      Brad Ebert           2017     20   PA           Brad Ebert     83   \n",
       "      Charlie Dixon        2017     20   PA        Charlie Dixon     77   \n",
       "      Jared Polec          2017     20   PA          Jared Polec     73   \n",
       "      Ollie Wines          2017     20   PA          Ollie Wines     66   \n",
       "      Hamish Hartlett      2017     20   PA      Hamish Hartlett     63   \n",
       "      Jasper Pittard       2017     20   PA       Jasper Pittard     61   \n",
       "      Justin Westhoff      2017     20   PA      Justin Westhoff     60   \n",
       "      Jack Hombsch         2017     20   PA         Jack Hombsch     58   \n",
       "      Sam Gray             2017     20   PA             Sam Gray     57   \n",
       "      Jarman Impey         2017     20   PA         Jarman Impey     46   \n",
       "      Aidyn Johnson        2017     20   PA        Aidyn Johnson     44   \n",
       "      Darcy Byrne-Jones    2017     20   PA    Darcy Byrne-Jones     38   \n",
       "      Karl Amon            2017     20   PA            Karl Amon     37   \n",
       "      Jackson Trengove     2017     20   PA     Jackson Trengove     32   \n",
       "      Aaron Young          2017     20   PA          Aaron Young     25   \n",
       "      Tom Clurey           2017     20   PA           Tom Clurey     24   \n",
       "      Angus Monfries       2017     20   PA       Angus Monfries     22   \n",
       "      Sam Powell-Pepper    2017     20   PA    Sam Powell-Pepper     16   \n",
       "\n",
       "                          Opposition     Venue  \n",
       "round player                                    \n",
       "1     Marc Murphy                RIC       MCG  \n",
       "      Kade Simpson               RIC       MCG  \n",
       "      Matthew Kreuzer            RIC       MCG  \n",
       "      Bryce Gibbs                RIC       MCG  \n",
       "      Sam Docherty               RIC       MCG  \n",
       "      Matthew Wright             RIC       MCG  \n",
       "      Lachie Plowman             RIC       MCG  \n",
       "      Caleb Marchbank            RIC       MCG  \n",
       "      Ed Curnow                  RIC       MCG  \n",
       "      Patrick Cripps             RIC       MCG  \n",
       "      Dale Thomas                RIC       MCG  \n",
       "      Jacob Weitering            RIC       MCG  \n",
       "      Sam Petrevski-Seton        RIC       MCG  \n",
       "      Jack Silvagni              RIC       MCG  \n",
       "      Levi Casboult              RIC       MCG  \n",
       "      Billie Smedts              RIC       MCG  \n",
       "      Charlie Curnow             RIC       MCG  \n",
       "      Simon White                RIC       MCG  \n",
       "      Harrison Macreadie         RIC       MCG  \n",
       "      Sam Rowe                   RIC       MCG  \n",
       "      Jarrod Pickett             RIC       MCG  \n",
       "      Dennis Armfield            RIC       MCG  \n",
       "      Dustin Martin              CAR       MCG  \n",
       "      Shaun Grigg                CAR       MCG  \n",
       "      Dion Prestia               CAR       MCG  \n",
       "      Trent Cotchin              CAR       MCG  \n",
       "      Nick Vlastuin              CAR       MCG  \n",
       "      Jason Castagna             CAR       MCG  \n",
       "      Reece Conca                CAR       MCG  \n",
       "      Toby Nankervis             CAR       MCG  \n",
       "...                              ...       ...  \n",
       "20    Luke Brown                  PA  Adelaide  \n",
       "      Riley Knight                PA  Adelaide  \n",
       "      Rory Atkins                 PA  Adelaide  \n",
       "      Mitch McGovern              PA  Adelaide  \n",
       "      Daniel Talia                PA  Adelaide  \n",
       "      Jake Kelly                  PA  Adelaide  \n",
       "      Alex Keath                  PA  Adelaide  \n",
       "      David Mackay                PA  Adelaide  \n",
       "      Robbie Gray                ADE  Adelaide  \n",
       "      Travis Boak                ADE  Adelaide  \n",
       "      Tom Jonas                  ADE  Adelaide  \n",
       "      Paddy Ryder                ADE  Adelaide  \n",
       "      Brad Ebert                 ADE  Adelaide  \n",
       "      Charlie Dixon              ADE  Adelaide  \n",
       "      Jared Polec                ADE  Adelaide  \n",
       "      Ollie Wines                ADE  Adelaide  \n",
       "      Hamish Hartlett            ADE  Adelaide  \n",
       "      Jasper Pittard             ADE  Adelaide  \n",
       "      Justin Westhoff            ADE  Adelaide  \n",
       "      Jack Hombsch               ADE  Adelaide  \n",
       "      Sam Gray                   ADE  Adelaide  \n",
       "      Jarman Impey               ADE  Adelaide  \n",
       "      Aidyn Johnson              ADE  Adelaide  \n",
       "      Darcy Byrne-Jones          ADE  Adelaide  \n",
       "      Karl Amon                  ADE  Adelaide  \n",
       "      Jackson Trengove           ADE  Adelaide  \n",
       "      Aaron Young                ADE  Adelaide  \n",
       "      Tom Clurey                 ADE  Adelaide  \n",
       "      Angus Monfries             ADE  Adelaide  \n",
       "      Sam Powell-Pepper          ADE  Adelaide  \n",
       "\n",
       "[7524 rows x 7 columns]"
      ]
     },
     "execution_count": 6,
     "metadata": {},
     "output_type": "execute_result"
    }
   ],
   "source": [
    "raw.loc[(2017)]"
   ]
  },
  {
   "cell_type": "markdown",
   "metadata": {},
   "source": [
    "### Function Definitions and Testing\n",
    "\n",
    "In the following code I construct functions that take a row from the raw data set and generate a feature to be used in the final data set. The goal is to use these functions while looping over each observation in the raw dataset to construct the dataset to be used in the project. \n",
    "\n",
    "Multiple tests were constructed with each function and the results cross-referenced with data on the AFL Fantasy website (https://fantasy.afl.com.au). Particular emphasis was placed on the testing of fringe values likely to trigger errors or incorrect calculations. In most cases the last conducted test is available after the function definition."
   ]
  },
  {
   "cell_type": "code",
   "execution_count": 14,
   "metadata": {
    "collapsed": false
   },
   "outputs": [],
   "source": [
    "# The purpose of this function is not to directly compute a feature, but to rather be called by other functions \n",
    "# such as prev_player_score to provide a proxy value when a more suitable value is not available\n",
    "\n",
    "def last_season_average(data, yr, player):\n",
    "    \"\"\"Returns player's average for the previous year if available, \n",
    "        otherwise returns none\"\"\"\n",
    "    if yr == 2014:\n",
    "        return None\n",
    "    yr -= 1\n",
    "    try:\n",
    "        yr_data = data.loc[(yr)].groupby('Player').get_group(player).mean()['Score']\n",
    "    except KeyError:\n",
    "        yr_data = None\n",
    "    return yr_data"
   ]
  },
  {
   "cell_type": "code",
   "execution_count": 15,
   "metadata": {
    "collapsed": false
   },
   "outputs": [
    {
     "data": {
      "text/plain": [
       "104.0952380952381"
      ]
     },
     "execution_count": 15,
     "metadata": {},
     "output_type": "execute_result"
    }
   ],
   "source": [
    "last_season_average(raw, 2016, 'Adam Treloar')"
   ]
  },
  {
   "cell_type": "code",
   "execution_count": 16,
   "metadata": {
    "collapsed": true
   },
   "outputs": [],
   "source": [
    "# This function is used to directly compute the prev_rd_score feature of the final data set\n",
    "\n",
    "def prev_player_score(data, yr, rd, player):\n",
    "    \"\"\"Returns the most recent score available for the player within the given year. If no previous scores \n",
    "        available, prev year average is used as a proxy. If prev year average is not available, None is recorded\"\"\"\n",
    "    while rd > 1:\n",
    "        rd -= 1\n",
    "        try:\n",
    "            return data.loc[(yr, rd, player)]['Score']\n",
    "        except KeyError:\n",
    "            continue\n",
    "    return last_season_average(data, yr, player)"
   ]
  },
  {
   "cell_type": "code",
   "execution_count": 17,
   "metadata": {
    "collapsed": false
   },
   "outputs": [
    {
     "name": "stdout",
     "output_type": "stream",
     "text": [
      "117.954545455\n"
     ]
    }
   ],
   "source": [
    "print(prev_player_score(raw, 2017, 1, 'Patrick Dangerfield'))"
   ]
  },
  {
   "cell_type": "code",
   "execution_count": 18,
   "metadata": {
    "collapsed": false
   },
   "outputs": [],
   "source": [
    "# This function is used to directly calculate the three_rd_av and five_rd_av features of the final data set\n",
    "\n",
    "def prev_rounds_average(data, yr, rd, player, rds_to_av):\n",
    "    \"\"\"Returns the average score of the player over the most recent rds_to_av number of rounds within the given\n",
    "        year. If rds_to_av number of previous rounds do not exist, the player's previous year average is used \n",
    "        as many times as nessacary to make up rds_to_av observations\"\"\"\n",
    "    values_to_average = []\n",
    "    while len(values_to_average) < rds_to_av:\n",
    "        if rd > 1:\n",
    "            rd -= 1\n",
    "            try:\n",
    "                values_to_average.append(data.loc[(yr, rd, player)]['Score'])\n",
    "            except KeyError:\n",
    "                continue\n",
    "        else:\n",
    "            values_to_average.append(last_season_average(data, yr, player))\n",
    "            continue\n",
    "    if None in values_to_average:\n",
    "        return None\n",
    "    else:\n",
    "        return np.array(values_to_average).mean()"
   ]
  },
  {
   "cell_type": "code",
   "execution_count": 19,
   "metadata": {
    "collapsed": false
   },
   "outputs": [
    {
     "name": "stdout",
     "output_type": "stream",
     "text": [
      "84.5333333333\n"
     ]
    }
   ],
   "source": [
    "print(prev_rounds_average(raw, 2017, 21, 'Nic Naitanui', 3))"
   ]
  },
  {
   "cell_type": "code",
   "execution_count": 20,
   "metadata": {
    "collapsed": true
   },
   "outputs": [],
   "source": [
    "# This function is used to directly calculate the season_av feature in the final data set.\n",
    "\n",
    "def current_season_average(data, yr, rd, player):\n",
    "    \"\"\"Calculates the players rolling season average prior to round, If no data available, previous season \n",
    "        average is used\"\"\"\n",
    "    try:\n",
    "        yr_ave = data.loc[(yr):(yr, rd-1)].groupby('Player').get_group(player).mean()['Score']\n",
    "    except KeyError:\n",
    "        yr_ave = last_season_average(data, yr, player)\n",
    "    return yr_ave"
   ]
  },
  {
   "cell_type": "code",
   "execution_count": 21,
   "metadata": {
    "collapsed": false
   },
   "outputs": [
    {
     "data": {
      "text/plain": [
       "111.13636363636364"
      ]
     },
     "execution_count": 21,
     "metadata": {},
     "output_type": "execute_result"
    }
   ],
   "source": [
    "current_season_average(raw, 2017, 1, 'Lachie Neale')"
   ]
  },
  {
   "cell_type": "code",
   "execution_count": 22,
   "metadata": {
    "collapsed": false
   },
   "outputs": [],
   "source": [
    "# This function is used to directly calculate the prev_against_opp feature in the final data set\n",
    "\n",
    "def prev_player_score_against_opposition(data, yr, rd, player, opp):\n",
    "    \"\"\"Returns player's last known score against opposition, otherwise returns none. The calculation of this value\n",
    "        is not limited to the current year\"\"\"\n",
    "    filtered_data = data[np.logical_and(data['Player'] == player, np.array(data['Opposition'] == opp))].loc[:(yr, rd-1)]\n",
    "    if len(filtered_data) == 0:\n",
    "        return None\n",
    "    else:\n",
    "        return int(filtered_data.iloc[-1:]['Score'])"
   ]
  },
  {
   "cell_type": "code",
   "execution_count": 23,
   "metadata": {
    "collapsed": false
   },
   "outputs": [
    {
     "data": {
      "text/plain": [
       "121"
      ]
     },
     "execution_count": 23,
     "metadata": {},
     "output_type": "execute_result"
    }
   ],
   "source": [
    "prev_player_score_against_opposition(raw, 2017, 20, 'Nat Fyfe', 'GCS')"
   ]
  },
  {
   "cell_type": "code",
   "execution_count": 24,
   "metadata": {
    "collapsed": false
   },
   "outputs": [],
   "source": [
    "# This function is used to directly calculate the prev_at_venue feature in the final data set\n",
    "\n",
    "def prev_player_score_at_venue(data, yr, rd, player, ven):\n",
    "    \"\"\"Returns player's last known score at venue, otherwise returns none. The calculation of this value is not\n",
    "        limited to the current year\"\"\"\n",
    "    filtered_data = data[np.logical_and(data['Player'] == player, np.array(data['Venue'] == ven))].loc[:(yr, rd-1)]\n",
    "    if len(filtered_data) == 0:\n",
    "        return None\n",
    "    else:\n",
    "        return int(filtered_data.iloc[-1:]['Score'])"
   ]
  },
  {
   "cell_type": "code",
   "execution_count": 25,
   "metadata": {
    "collapsed": false
   },
   "outputs": [
    {
     "data": {
      "text/plain": [
       "129"
      ]
     },
     "execution_count": 25,
     "metadata": {},
     "output_type": "execute_result"
    }
   ],
   "source": [
    "prev_player_score_at_venue(raw, 2017, 1, 'Stephen Hill', 'Domain')"
   ]
  },
  {
   "cell_type": "code",
   "execution_count": 26,
   "metadata": {
    "collapsed": true
   },
   "outputs": [],
   "source": [
    "# The purpose of this function is not to directly compute a feature, but to rather be called by other functions \n",
    "# such as prev_team_for_average to provide a proxy value when a more suitable value is not available\n",
    "\n",
    "def prev_year_av_team_for(data, yr, team):\n",
    "    \"\"\"Returns team's average 'points for' for the previous year if available, otherwise returns none\"\"\"\n",
    "    if yr == 2014:\n",
    "        return None\n",
    "    yr -= 1\n",
    "    yr_data = data.loc[(yr)].groupby('Team').get_group(team)\n",
    "    team_av = yr_data['Score'].sum() / len(yr_data['Round'].unique())\n",
    "    \n",
    "    return team_av"
   ]
  },
  {
   "cell_type": "code",
   "execution_count": 27,
   "metadata": {
    "collapsed": false
   },
   "outputs": [
    {
     "data": {
      "text/plain": [
       "1557.090909090909"
      ]
     },
     "execution_count": 27,
     "metadata": {},
     "output_type": "execute_result"
    }
   ],
   "source": [
    "prev_year_av_team_for(raw, 2017, 'FRE')"
   ]
  },
  {
   "cell_type": "code",
   "execution_count": 28,
   "metadata": {
    "collapsed": false
   },
   "outputs": [
    {
     "data": {
      "text/plain": [
       "1557.090909090909"
      ]
     },
     "execution_count": 28,
     "metadata": {},
     "output_type": "execute_result"
    }
   ],
   "source": [
    "raw.loc[(2016)][raw.loc[(2016)]['Team'] == 'FRE']['Score'].sum() / 22"
   ]
  },
  {
   "cell_type": "code",
   "execution_count": 29,
   "metadata": {
    "collapsed": true
   },
   "outputs": [],
   "source": [
    "# The purpose of this function is not to directly compute a feature, but to rather be called by other functions \n",
    "# such as prev_opposition_against_av to provide a proxy value when a more suitable value is not available\n",
    "\n",
    "def prev_year_av_opposition_against(data, yr, opp):\n",
    "    \"\"\"Returns the average 'points against' the opposition team for the previous year if available, \n",
    "        otherwise returns none\"\"\"\n",
    "    if yr == 2014:\n",
    "        return None\n",
    "    yr -= 1\n",
    "    yr_data = data.loc[(yr)].groupby('Opposition').get_group(opp)\n",
    "    team_av = yr_data['Score'].sum() / len(yr_data['Round'].unique())\n",
    "    \n",
    "    return team_av"
   ]
  },
  {
   "cell_type": "code",
   "execution_count": 30,
   "metadata": {
    "collapsed": false
   },
   "outputs": [
    {
     "data": {
      "text/plain": [
       "1602.0"
      ]
     },
     "execution_count": 30,
     "metadata": {},
     "output_type": "execute_result"
    }
   ],
   "source": [
    "prev_year_av_opposition_against(raw, 2017, 'WCE')"
   ]
  },
  {
   "cell_type": "code",
   "execution_count": 31,
   "metadata": {
    "collapsed": false
   },
   "outputs": [
    {
     "data": {
      "text/plain": [
       "1602.0"
      ]
     },
     "execution_count": 31,
     "metadata": {},
     "output_type": "execute_result"
    }
   ],
   "source": [
    "raw.loc[(2016)][raw.loc[(2016)]['Opposition'] == 'WCE']['Score'].sum() / 22"
   ]
  },
  {
   "cell_type": "code",
   "execution_count": 32,
   "metadata": {
    "collapsed": true
   },
   "outputs": [],
   "source": [
    "# This function is used to directly calculate the three_rd_av_team_for feature in the final data set.\n",
    "\n",
    "def prev_team_for_average(data, yr, rd, team, rds_to_av):\n",
    "    \"\"\"Returns the average team 'points for' over rds_to_av number of rounds\"\"\"\n",
    "    values_to_average = []\n",
    "    while len(values_to_average) < rds_to_av:\n",
    "        if rd > 1:\n",
    "            rd -= 1\n",
    "            try:\n",
    "                values_to_average.append(data.loc[(yr, rd)].groupby('Team').get_group(team)['Score'].sum())\n",
    "            except KeyError:\n",
    "                continue\n",
    "        else:\n",
    "            values_to_average.append(prev_year_av_team_for(data, yr, team))\n",
    "    if None in values_to_average:\n",
    "        return None\n",
    "    else:\n",
    "        return np.array(values_to_average).mean()"
   ]
  },
  {
   "cell_type": "code",
   "execution_count": 33,
   "metadata": {
    "collapsed": false
   },
   "outputs": [
    {
     "data": {
      "text/plain": [
       "1643.6666666666667"
      ]
     },
     "execution_count": 33,
     "metadata": {},
     "output_type": "execute_result"
    }
   ],
   "source": [
    "prev_team_for_average(raw, 2014, 10, 'NM', 3)"
   ]
  },
  {
   "cell_type": "code",
   "execution_count": 34,
   "metadata": {
    "collapsed": false
   },
   "outputs": [
    {
     "data": {
      "text/plain": [
       "1594.4"
      ]
     },
     "execution_count": 34,
     "metadata": {},
     "output_type": "execute_result"
    }
   ],
   "source": [
    "raw.loc[(2017, 16):(2017, 20)].groupby('Team').get_group('FRE').sum()['Score'] / 5"
   ]
  },
  {
   "cell_type": "code",
   "execution_count": 35,
   "metadata": {
    "collapsed": true
   },
   "outputs": [],
   "source": [
    "# This function is used to directly calculate the three_rd_av_opp_against feature in the final data set.\n",
    "\n",
    "def prev_opp_against_average(data, yr, rd, opp, rds_to_av):\n",
    "    \"\"\"Returns the average team 'points for' for the teams to most recently play the current round opposition team\n",
    "        over rds_to_av number of rounds\"\"\"\n",
    "    values_to_average = []\n",
    "    while len(values_to_average) < rds_to_av:\n",
    "        if rd > 1:\n",
    "            rd -= 1\n",
    "            try:\n",
    "                values_to_average.append(data.loc[(yr, rd)].groupby('Opposition').get_group(opp)['Score'].sum())\n",
    "            except KeyError:\n",
    "                continue\n",
    "        else:\n",
    "            values_to_average.append(prev_year_av_opposition_against(data, yr, opp))\n",
    "    if None in values_to_average:\n",
    "        return None\n",
    "    else:\n",
    "        return np.array(values_to_average).mean()"
   ]
  },
  {
   "cell_type": "code",
   "execution_count": 36,
   "metadata": {
    "collapsed": false
   },
   "outputs": [
    {
     "data": {
      "text/plain": [
       "1652.6666666666667"
      ]
     },
     "execution_count": 36,
     "metadata": {},
     "output_type": "execute_result"
    }
   ],
   "source": [
    "prev_opp_against_average(raw, 2017, 21, 'FRE', 3)"
   ]
  },
  {
   "cell_type": "code",
   "execution_count": 37,
   "metadata": {
    "collapsed": false
   },
   "outputs": [
    {
     "data": {
      "text/plain": [
       "1652.6666666666667"
      ]
     },
     "execution_count": 37,
     "metadata": {},
     "output_type": "execute_result"
    }
   ],
   "source": [
    "raw.loc[(2017, 18):(2017, 20)].groupby('Opposition').get_group('FRE').sum()['Score'] / 3"
   ]
  },
  {
   "cell_type": "code",
   "execution_count": 38,
   "metadata": {
    "collapsed": true
   },
   "outputs": [],
   "source": [
    "# This function is used to directly calculate the last_team_opp feature from the final data set\n",
    "\n",
    "def prev_team_score_against_opposition(data, yr, rd, team, opp):\n",
    "    \"\"\"Returns team's last known score against opposition team. If not available, returns none. The calculation of \n",
    "        this value is not limited to the current year\"\"\"\n",
    "    filtered_data = data[np.logical_and(data['Team'] == team, data['Opposition'] == opp)].loc[:(yr, rd-1)]\n",
    "    if len(filtered_data) == 0:\n",
    "        return None\n",
    "    else:\n",
    "        return int(np.array(filtered_data.groupby(['Year','Round']).sum()['Score'])[-1:])"
   ]
  },
  {
   "cell_type": "code",
   "execution_count": 39,
   "metadata": {
    "collapsed": false,
    "scrolled": false
   },
   "outputs": [
    {
     "data": {
      "text/plain": [
       "1526"
      ]
     },
     "execution_count": 39,
     "metadata": {},
     "output_type": "execute_result"
    }
   ],
   "source": [
    "prev_team_score_against_opposition(raw, 2017, 20, 'FRE', 'GCS')"
   ]
  },
  {
   "cell_type": "code",
   "execution_count": 40,
   "metadata": {
    "collapsed": false
   },
   "outputs": [
    {
     "data": {
      "text/plain": [
       "1526"
      ]
     },
     "execution_count": 40,
     "metadata": {},
     "output_type": "execute_result"
    }
   ],
   "source": [
    "raw.loc[(2016, 18)].groupby('Team').get_group('FRE').sum()['Score']"
   ]
  },
  {
   "cell_type": "code",
   "execution_count": 41,
   "metadata": {
    "collapsed": true
   },
   "outputs": [],
   "source": [
    "# This function is used to directly calculate the last_team_venue feature from the final data set\n",
    "\n",
    "def prev_team_score_at_venue(data, yr, rd, team, venue):\n",
    "    \"\"\"Returns team's last known score at venue. If not available, returns none. The calculation of this value is\n",
    "        not limited to the current year\"\"\"\n",
    "    filtered_data = data[np.logical_and(data['Team'] == team, data['Venue'] == venue)].loc[:(yr, rd-1)]\n",
    "    if len(filtered_data) == 0:\n",
    "        return None\n",
    "    else:\n",
    "        return int(np.array(filtered_data.groupby(['Year','Round']).sum()['Score'])[-1:])"
   ]
  },
  {
   "cell_type": "code",
   "execution_count": 42,
   "metadata": {
    "collapsed": false
   },
   "outputs": [
    {
     "data": {
      "text/plain": [
       "1480"
      ]
     },
     "execution_count": 42,
     "metadata": {},
     "output_type": "execute_result"
    }
   ],
   "source": [
    "prev_team_score_at_venue(raw, 2017, 20, 'FRE', 'Domain')"
   ]
  },
  {
   "cell_type": "code",
   "execution_count": 43,
   "metadata": {
    "collapsed": false
   },
   "outputs": [
    {
     "data": {
      "text/plain": [
       "1480"
      ]
     },
     "execution_count": 43,
     "metadata": {},
     "output_type": "execute_result"
    }
   ],
   "source": [
    "raw.loc[(2017, 18)].groupby('Team').get_group('FRE').sum()['Score']\n"
   ]
  },
  {
   "cell_type": "code",
   "execution_count": 44,
   "metadata": {
    "collapsed": false
   },
   "outputs": [
    {
     "name": "stdout",
     "output_type": "stream",
     "text": [
      "No of rows equal:  True\n"
     ]
    }
   ],
   "source": [
    "# Here I conducted separate tests for each function on the raw data set to check for errors \n",
    "\n",
    "results = []\n",
    "\n",
    "for index, row in raw.iterrows():\n",
    "    results.append(prev_team_score_at_venue(raw, row['Year'], row['Round'],row['Team'], row['Venue']))\n",
    "    \n",
    "print('No of rows equal: ', len(results)==len(raw))"
   ]
  },
  {
   "cell_type": "markdown",
   "metadata": {},
   "source": [
    "### Construction of Final Capstone Data Set\n",
    "\n",
    "Here I use the functions created above to create the data set to be used for the 'Captain Choice Problem' project. The data set is constructed by looping over each observation in the raw data set and applying the functions to each observation. The functions in turn construct the features to be used."
   ]
  },
  {
   "cell_type": "code",
   "execution_count": 45,
   "metadata": {
    "collapsed": false
   },
   "outputs": [],
   "source": [
    "outer = []\n",
    "\n",
    "for index, row in raw.iterrows():\n",
    "    inner = []\n",
    "    inner.append(prev_player_score(raw, row['Year'], row['Round'], row['Player']))\n",
    "    inner.append(prev_rounds_average(raw, row['Year'], row['Round'], row['Player'], 3))\n",
    "    inner.append(prev_rounds_average(raw, row['Year'], row['Round'], row['Player'], 5))\n",
    "    inner.append(current_season_average(raw, row['Year'], row['Round'], row['Player']))\n",
    "    inner.append(prev_player_score_against_opposition(raw, row['Year'], row['Round'], row['Player'], row['Opposition']))\n",
    "    inner.append(prev_player_score_at_venue(raw, row['Year'], row['Round'], row['Player'], row['Venue']))\n",
    "    inner.append(prev_team_for_average(raw, row['Year'], row['Round'], row['Team'], 3))\n",
    "    inner.append(prev_opp_against_average(raw, row['Year'], row['Round'], row['Opposition'], 3))\n",
    "    inner.append(prev_team_score_against_opposition(raw, row['Year'], row['Round'], row['Team'], row['Opposition']))\n",
    "    inner.append(prev_team_score_at_venue(raw, row['Year'], row['Round'], row['Team'], row['Venue']))\n",
    "    outer.append(inner)"
   ]
  },
  {
   "cell_type": "code",
   "execution_count": 65,
   "metadata": {
    "collapsed": false
   },
   "outputs": [],
   "source": [
    "# Adding appropriate row and column index to data\n",
    "outer = pd.DataFrame(outer, index=raw.index, columns=['prev rd score', 'three rd av', 'five rd av', 'season av', \n",
    "                                                      'prev against opp', 'prev at venue', 'three rd av team for', \n",
    "                                                      'three rd av opp against', 'last team opp', 'last team venue'])\n",
    "\n",
    "# Adding target data to data set\n",
    "outer['score'] = raw['Score']"
   ]
  },
  {
   "cell_type": "code",
   "execution_count": 66,
   "metadata": {
    "collapsed": true
   },
   "outputs": [],
   "source": [
    "# saving final data output\n",
    "outer.to_csv('capstone data final.csv')"
   ]
  }
 ],
 "metadata": {
  "anaconda-cloud": {},
  "kernelspec": {
   "display_name": "Python [conda env:python3]",
   "language": "python",
   "name": "conda-env-python3-py"
  },
  "language_info": {
   "codemirror_mode": {
    "name": "ipython",
    "version": 3
   },
   "file_extension": ".py",
   "mimetype": "text/x-python",
   "name": "python",
   "nbconvert_exporter": "python",
   "pygments_lexer": "ipython3",
   "version": "3.5.2"
  }
 },
 "nbformat": 4,
 "nbformat_minor": 1
}
